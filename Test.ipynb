{
 "cells": [
  {
   "cell_type": "code",
   "execution_count": null,
   "metadata": {},
   "outputs": [],
   "source": [
    "# Import libraries and modules\n",
    "import numpy as np\n",
    "import Synthesis as synt\n",
    "import time\n",
    "import Utils as ut\n",
    "import TestCase as tc\n",
    "from copy import deepcopy\n",
    "from qiskit_textbook.tools import array_to_latex"
   ]
  },
  {
   "cell_type": "code",
   "execution_count": null,
   "metadata": {
    "scrolled": false
   },
   "outputs": [],
   "source": [
    "# Testcase preparation\n",
    "U = ut.generateRandomU(nq=2, nc=10) # Generate random matrix\n",
    "#U = tc.u # or Use already manually generated matrises in TestCase.py"
   ]
  },
  {
   "cell_type": "code",
   "execution_count": null,
   "metadata": {},
   "outputs": [],
   "source": [
    "# Show input matrix\n",
    "ut.matrix_to_latex(U) "
   ]
  },
  {
   "cell_type": "code",
   "execution_count": null,
   "metadata": {},
   "outputs": [],
   "source": [
    "# Check if the matrix is unitary (if so return True)\n",
    "ut.checkUnitarity(U)"
   ]
  },
  {
   "cell_type": "code",
   "execution_count": null,
   "metadata": {},
   "outputs": [],
   "source": [
    "# Pass the matrix to synthesis function and call it, then save the return values\n",
    "# The main return value is Clifford+T Circuit saved in cliffordTCirc variable\n",
    "# The sceond return value is a higher level circuit made up of only controlled gates, saved in mcgCirc variable\n",
    "# The third return value is high level components including only 2 level matrises only, saved in HLCs2 variable\n",
    "# The last return value is high level components including both 2 and 1 level matrises, saved in HLCs12 variable\n",
    "start_time = time.time() \n",
    "cliffordTCirc, mcgCirc, HLCs2, HLCs12 = synt.syntCliffordTCircuit(deepcopy(U))\n",
    "exe_time = time.time() - start_time # measure execution time"
   ]
  },
  {
   "cell_type": "code",
   "execution_count": null,
   "metadata": {},
   "outputs": [],
   "source": [
    "# Show high level componets, 1 and 2 level matrises\n",
    "HLCs12"
   ]
  },
  {
   "cell_type": "code",
   "execution_count": null,
   "metadata": {},
   "outputs": [],
   "source": [
    "# Show high level matrises, only 2 level matrises(1 levels converted into 2 levels)\n",
    "HLCs2"
   ]
  },
  {
   "cell_type": "code",
   "execution_count": null,
   "metadata": {},
   "outputs": [],
   "source": [
    "# Show the circuit(made of only controlled gates)\n",
    "mcgCirc.draw()"
   ]
  },
  {
   "cell_type": "code",
   "execution_count": null,
   "metadata": {},
   "outputs": [],
   "source": [
    "# Evaluate mcg circuit\n",
    "result = ut.assess(U, mcgCirc)[0]\n",
    "\n",
    "# Show the result (True if the circuit is correct)\n",
    "result"
   ]
  },
  {
   "cell_type": "code",
   "execution_count": null,
   "metadata": {},
   "outputs": [],
   "source": [
    "# show the circuit(made of only Clifford+T gates)\n",
    "# cliffordTCirc.draw()"
   ]
  },
  {
   "cell_type": "code",
   "execution_count": null,
   "metadata": {},
   "outputs": [],
   "source": [
    "# Evaluate Clifford+T circuit\n",
    "# Uin is the input matrix (in numerical form)\n",
    "# Uout is the actuall matrix of generated circuit (in numerical form)\n",
    "result1,Uin,Uout = ut.assess(U, mcgCirc)\n",
    "\n",
    "# Show the result (True if the circuit is correct)\n",
    "result1"
   ]
  },
  {
   "cell_type": "code",
   "execution_count": null,
   "metadata": {},
   "outputs": [],
   "source": [
    "# Show input matrix\n",
    "# array_to_latex(Uin)"
   ]
  },
  {
   "cell_type": "code",
   "execution_count": null,
   "metadata": {
    "scrolled": true
   },
   "outputs": [],
   "source": [
    "# Show the actuall matrix of generated circuit \n",
    "# Now compare Uin and Uout visually\n",
    "# array_to_latex(Uout)"
   ]
  },
  {
   "cell_type": "code",
   "execution_count": null,
   "metadata": {},
   "outputs": [],
   "source": [
    "# Compare \n",
    "# Uin == Uout"
   ]
  },
  {
   "cell_type": "code",
   "execution_count": null,
   "metadata": {},
   "outputs": [],
   "source": [
    "# number of clifford+T gates\n",
    "len(cliffordTCirc.data)"
   ]
  },
  {
   "cell_type": "code",
   "execution_count": null,
   "metadata": {},
   "outputs": [],
   "source": [
    "# synthesis execuation time(in seconds)\n",
    "print(exe_time,'s')"
   ]
  },
  {
   "cell_type": "code",
   "execution_count": null,
   "metadata": {},
   "outputs": [],
   "source": []
  }
 ],
 "metadata": {
  "kernelspec": {
   "display_name": "Python 3",
   "language": "python",
   "name": "python3"
  },
  "language_info": {
   "codemirror_mode": {
    "name": "ipython",
    "version": 3
   },
   "file_extension": ".py",
   "mimetype": "text/x-python",
   "name": "python",
   "nbconvert_exporter": "python",
   "pygments_lexer": "ipython3",
   "version": "3.8.5"
  }
 },
 "nbformat": 4,
 "nbformat_minor": 4
}
